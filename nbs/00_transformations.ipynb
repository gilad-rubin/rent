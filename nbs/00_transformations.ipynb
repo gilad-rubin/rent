{
 "cells": [
  {
   "attachments": {},
   "cell_type": "markdown",
   "id": "b2df1573-c1c3-4668-abd3-0bf214276a35",
   "metadata": {},
   "source": [
    "# Hamilton Functions\n",
    "> Defining all the functions!"
   ]
  },
  {
   "cell_type": "code",
   "execution_count": null,
   "id": "cff0936a-d836-45af-b792-e00468394e34",
   "metadata": {},
   "outputs": [],
   "source": [
    "#|default_exp transformations"
   ]
  },
  {
   "cell_type": "code",
   "execution_count": null,
   "id": "f1c396f7-21c6-4fb9-8221-4b0fd60d3495",
   "metadata": {},
   "outputs": [],
   "source": [
    "#|export\n",
    "from typing import Optional\n",
    "from hamilton.function_modifiers import tag, extract_columns\n",
    "import pandas as pd"
   ]
  },
  {
   "cell_type": "code",
   "execution_count": null,
   "id": "12d38f10-cc93-4a2e-b1e5-97137e1e9814",
   "metadata": {},
   "outputs": [],
   "source": [
    "#- query to find the correct row in an existing table (like address in listings & buildings table - join, groupby, aggregate)\n",
    "#- enrichment (join) - geo, date with other datasets using spatial & temporal joins\n",
    "#- functional conversions of date, text columns"
   ]
  },
  {
   "cell_type": "code",
   "execution_count": null,
   "id": "47195023-11e1-4245-9da9-1a0b03323afb",
   "metadata": {},
   "outputs": [],
   "source": [
    "#|export\n",
    "cols = ['id', 'url', 'region', 'region_url', 'price', 'type', 'sqfeet', 'beds',\n",
    "       'baths', 'cats_allowed', 'dogs_allowed', 'smoking_allowed',\n",
    "       'wheelchair_access', 'electric_vehicle_charge', 'comes_furnished',\n",
    "       'laundry_options', 'parking_options', 'image_url', 'description', 'lat',\n",
    "       'long', 'state']\n",
    "@extract_columns(*cols)\n",
    "def load_data(path: str, nrows: Optional[int] = None) -> pd.DataFrame:\n",
    "    df = pd.read_csv(path, nrows=nrows)\n",
    "    return df"
   ]
  },
  {
   "cell_type": "code",
   "execution_count": null,
   "id": "e5f4aa3a-3fb6-4bea-930e-235a83a991a5",
   "metadata": {},
   "outputs": [],
   "source": [
    "#|export\n",
    "def set_target() -> str\n",
    "    return \"price\""
   ]
  },
  {
   "cell_type": "code",
   "execution_count": null,
   "id": "070237d0-ebb1-4680-877b-79a2b179b2d2",
   "metadata": {},
   "outputs": [],
   "source": [
    "#|export\n",
    "def is_half_bath(baths: pd.Series) -> pd.Series:\n",
    "    \"\"\"A boolean that indicates whether there is a half bath\"\"\"\n",
    "    return baths.apply(lambda x: (x - int(x)) == 0.5)"
   ]
  },
  {
   "cell_type": "code",
   "execution_count": null,
   "id": "281eea53-dabb-4aba-bfeb-30ddec02d078",
   "metadata": {},
   "outputs": [
    {
     "data": {
      "text/plain": [
       "0     True\n",
       "1    False\n",
       "dtype: bool"
      ]
     },
     "execution_count": null,
     "metadata": {},
     "output_type": "execute_result"
    }
   ],
   "source": [
    "# Test the corrected function\n",
    "result_final = is_half_bath(pd.Series([2.5, 1.0]))\n",
    "result_final"
   ]
  }
 ],
 "metadata": {
  "kernelspec": {
   "display_name": "Python 3 (ipykernel)",
   "language": "python",
   "name": "python3"
  }
 },
 "nbformat": 4,
 "nbformat_minor": 5
}
