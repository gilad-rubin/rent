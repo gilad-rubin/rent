{
 "cells": [
  {
   "cell_type": "code",
   "execution_count": 1,
   "id": "17753595-4e15-4817-a875-0c9a4383e623",
   "metadata": {},
   "outputs": [],
   "source": [
    "from platform import python_version"
   ]
  },
  {
   "cell_type": "code",
   "execution_count": 2,
   "id": "c626c82b-134a-4f4a-98be-d06877fcb5ee",
   "metadata": {},
   "outputs": [
    {
     "data": {
      "text/plain": [
       "'3.12.0'"
      ]
     },
     "execution_count": 2,
     "metadata": {},
     "output_type": "execute_result"
    }
   ],
   "source": [
    "python_version()"
   ]
  },
  {
   "cell_type": "code",
   "execution_count": 18,
   "id": "e07caa50-8eb1-4179-b51f-dde8eaf66304",
   "metadata": {},
   "outputs": [],
   "source": [
    "import numpy as np\n",
    "import pandas as pd"
   ]
  },
  {
   "cell_type": "markdown",
   "id": "1164c59b-b097-4d55-92cf-eb93512e3bf1",
   "metadata": {},
   "source": [
    "# Define Prod Inputs"
   ]
  },
  {
   "cell_type": "code",
   "execution_count": 36,
   "id": "906eed24-bb2a-4dce-958b-85c6077028a9",
   "metadata": {},
   "outputs": [],
   "source": [
    "prod_cols = [\"bmi\", \"sex\", \"s1\"]"
   ]
  },
  {
   "cell_type": "markdown",
   "id": "f4fa0b92-0f90-4e44-b4e2-a27c217ce315",
   "metadata": {},
   "source": [
    "# Split DF"
   ]
  },
  {
   "cell_type": "code",
   "execution_count": 47,
   "id": "fe91cef2-261d-4e9b-b860-ed6c973ec441",
   "metadata": {
    "tags": []
   },
   "outputs": [],
   "source": [
    "from sklearn.datasets import load_diabetes "
   ]
  },
  {
   "cell_type": "code",
   "execution_count": 48,
   "id": "56a21c46-b853-4ccc-b163-120b853d3eb9",
   "metadata": {
    "tags": []
   },
   "outputs": [],
   "source": [
    "X, y = load_diabetes(return_X_y=True, as_frame=True, scaled=False)"
   ]
  },
  {
   "cell_type": "code",
   "execution_count": 49,
   "id": "96663036-d183-45dc-aa74-d6e882e9b90b",
   "metadata": {},
   "outputs": [],
   "source": [
    "X[\"label\"] = y"
   ]
  },
  {
   "cell_type": "raw",
   "id": "52993ef3-7806-4e72-bc6a-883efe4e90a4",
   "metadata": {},
   "source": [
    "df_artifact = project.log_dataset(\"diabetes_dataset\", df=X, format=\"parquet\")"
   ]
  },
  {
   "cell_type": "markdown",
   "id": "63dd3f49-39a4-4964-97d0-35c7ba114da2",
   "metadata": {},
   "source": [
    "# Join"
   ]
  },
  {
   "cell_type": "code",
   "execution_count": 51,
   "id": "78cd781f-d738-4db9-9a1d-3e26a2661a91",
   "metadata": {},
   "outputs": [],
   "source": [
    "def sex_to_cat(col):\n",
    "    return np.where(col==2, \"woman\", \"man\")"
   ]
  },
  {
   "cell_type": "code",
   "execution_count": 53,
   "id": "915ab240-cf31-43f7-80b1-9f8edc486191",
   "metadata": {},
   "outputs": [
    {
     "data": {
      "text/plain": [
       "0      woman\n",
       "1        man\n",
       "2      woman\n",
       "3        man\n",
       "4        man\n",
       "       ...  \n",
       "437    woman\n",
       "438    woman\n",
       "439    woman\n",
       "440      man\n",
       "441      man\n",
       "Name: sex, Length: 442, dtype: object"
      ]
     },
     "execution_count": 53,
     "metadata": {},
     "output_type": "execute_result"
    }
   ],
   "source": [
    "X[\"sex\"].apply(sex_to_cat)"
   ]
  },
  {
   "cell_type": "code",
   "execution_count": null,
   "id": "92ce876e-9ecd-4597-9b57-e7a4539bbe8e",
   "metadata": {},
   "outputs": [],
   "source": [
    "- query to find the correct row in an existing table (like address in listings & buildings table - join, groupby, aggregate)\n",
    "- enrichment (join) - geo, date with other datasets using spatial & temporal joins\n",
    "- functional conversions of date, text columns"
   ]
  },
  {
   "cell_type": "code",
   "execution_count": null,
   "id": "b57802f5-d999-4a6b-a31e-faa2c10b5cdf",
   "metadata": {},
   "outputs": [],
   "source": [
    "@step\n",
    "def transform_unit_ids(df):\n",
    "    return df"
   ]
  },
  {
   "cell_type": "code",
   "execution_count": null,
   "id": "0bc59371-916d-4d82-bd08-c9d92ec1994a",
   "metadata": {},
   "outputs": [],
   "source": [
    "@step\n",
    "def transform_descriptions(text):\n",
    "    return text"
   ]
  },
  {
   "cell_type": "code",
   "execution_count": null,
   "id": "0327798a-98fd-420c-b0dd-76843a750c79",
   "metadata": {},
   "outputs": [],
   "source": [
    "@pipeline\n",
    "def pipe_transform_booleans(df):\n",
    "    transform_unit_ids(df)\n",
    "    ...\n",
    "    return df"
   ]
  },
  {
   "cell_type": "code",
   "execution_count": null,
   "id": "d4848c21-d6ba-4d82-85cb-9a917316c969",
   "metadata": {},
   "outputs": [],
   "source": [
    "save pipe_transform_booleans"
   ]
  },
  {
   "cell_type": "code",
   "execution_count": null,
   "id": "1fb9dc0a-b87f-4921-8e5c-be70ad71a45e",
   "metadata": {},
   "outputs": [],
   "source": [
    "https://github.com/markfairbanks/tidypolars"
   ]
  },
  {
   "cell_type": "code",
   "execution_count": null,
   "id": "28d8d484-afb9-49f5-b281-2b96e73a7aee",
   "metadata": {},
   "outputs": [],
   "source": [
    "there are preparation steps that should be carried out on a schedule, independent of inference"
   ]
  },
  {
   "cell_type": "code",
   "execution_count": null,
   "id": "88bf42b8-3c8b-47bd-88c0-a75c7889e9a6",
   "metadata": {},
   "outputs": [],
   "source": [
    "table-wise transformations\n",
    "row-wise transformations\n",
    "column(s) transformations"
   ]
  },
  {
   "cell_type": "markdown",
   "id": "df58f426-816f-4968-b294-100b5fc59d53",
   "metadata": {},
   "source": [
    "## Inputs + enrichment that are not based on current/recent/time-sensitive data"
   ]
  },
  {
   "cell_type": "raw",
   "id": "42fae397-2844-426a-8644-e10a353205e0",
   "metadata": {},
   "source": [
    "helpful question: does it matter if we enrich/calculate it today or tomorrow? if no - then continue here..."
   ]
  },
  {
   "cell_type": "raw",
   "id": "fa155888-f21d-47a7-800a-29a6d2131988",
   "metadata": {},
   "source": [
    "anything that can be calculated in advance - should be. It's a relatively \"small\" structured discrete space.\n",
    "these should be updated so that new inference can rely on it\n",
    "examples: join, groupbys, aggregations to create simple rows for query\n",
    "examples: dividing map into regions, enriching each region with certain aspects..."
   ]
  },
  {
   "cell_type": "raw",
   "id": "1c8f2ec5-561a-437f-8a98-958fae7b4dd9",
   "metadata": {},
   "source": [
    "anything that is specific to inference - Non-discrete, unstructured, too large discrete (specific coordinates, specific address (?))\n",
    "examples: analyzing free text, enriching geodata, ..."
   ]
  },
  {
   "cell_type": "raw",
   "id": "f8692c94-08ca-4be5-9a4c-2fc01a1ff25f",
   "metadata": {},
   "source": [
    "Situation where there's a new test result and the model needs to add that into the history of the patient\n",
    "so they input the test result and the inference pipeline compiles a new record for the model to predict"
   ]
  },
  {
   "cell_type": "markdown",
   "id": "de348ee6-e79f-4685-a8cb-07580663b9da",
   "metadata": {},
   "source": [
    "## Feature are based on real-time data + calculations "
   ]
  },
  {
   "cell_type": "raw",
   "id": "bb64ee50-bb5f-4675-a98c-665c40c49b33",
   "metadata": {},
   "source": [
    "helpful question: does it matter if we enrich/calculate it today or tomorrow? if yes - then continue here..."
   ]
  },
  {
   "cell_type": "raw",
   "id": "12162f92-9c69-4522-99d2-46be0661aba3",
   "metadata": {},
   "source": [
    "Streaming, Feature store"
   ]
  },
  {
   "cell_type": "raw",
   "id": "dfebded4-b80a-423f-9a6b-d57ea94c9b0e",
   "metadata": {},
   "source": []
  },
  {
   "cell_type": "raw",
   "id": "32d18823-43eb-4148-9f61-3807b18f774e",
   "metadata": {},
   "source": []
  },
  {
   "cell_type": "raw",
   "id": "37b3b846-0878-44d4-a2b4-566fcfb1ec1e",
   "metadata": {},
   "source": [
    "location, address, apt. features"
   ]
  },
  {
   "cell_type": "raw",
   "id": "7e6a6408-5ca3-4e0f-a38e-dc7026cff0b8",
   "metadata": {},
   "source": [
    "address - queries a pre-prepped database to get row (if exists)\n",
    "location - enrichment information is static, but query needs on-demand calculation (there are too many coordinates)\n",
    "apt. features - gets used as input features then transformed via pipeline"
   ]
  },
  {
   "cell_type": "raw",
   "id": "5f46727c-bab7-4c4b-9e8d-01aea1cdece5",
   "metadata": {},
   "source": [
    "query on *pre-prepped db* - update interval (none, daily, monthly, on-demand, etc...)\n",
    "API/query - enrichment (independent of training): geo, external API\n",
    "feature transformations (based on training) - cat encoding, numerical conversion, etc..."
   ]
  },
  {
   "cell_type": "raw",
   "id": "a56348d7-63c3-4c3c-95e0-e3af67849c7b",
   "metadata": {},
   "source": [
    "https://www.kaggle.com/datasets/rkb0023/houserentpredictiondataset/data"
   ]
  },
  {
   "cell_type": "raw",
   "id": "2e40f99f-ae5f-4963-8790-669899505f73",
   "metadata": {},
   "source": []
  },
  {
   "cell_type": "raw",
   "id": "a894378a-e6ef-4dc3-a9b5-225f99be69fa",
   "metadata": {},
   "source": [
    "working separately on each column or column-set and \"registering\" the transformation via key/id to the final dataset"
   ]
  },
  {
   "cell_type": "raw",
   "id": "630d5985-328b-411b-a038-ff22f5a494b9",
   "metadata": {},
   "source": []
  },
  {
   "cell_type": "raw",
   "id": "c5e57cf5-f308-486b-a9c2-3f7667a41c7b",
   "metadata": {},
   "source": []
  },
  {
   "cell_type": "raw",
   "id": "a0f1c742-4bf9-44a3-9cb2-b6ae338f1013",
   "metadata": {},
   "source": [
    "Hamilton - handling ingestion (instead of a feature store?)"
   ]
  },
  {
   "cell_type": "raw",
   "id": "2b4d533e-5db6-4740-ba08-3d0252833cea",
   "metadata": {},
   "source": []
  },
  {
   "cell_type": "raw",
   "id": "c0db91df-57fe-4462-80fa-0423d93dce04",
   "metadata": {},
   "source": [
    "caching, dumping (materialize), lazy evaluate"
   ]
  },
  {
   "cell_type": "raw",
   "id": "c31517e3-8902-46cf-9cfe-447b73d4965b",
   "metadata": {},
   "source": [
    "pipelines within pipelines\n",
    "\"double click\" to expand\n",
    "\n",
    "optional - concatenating a (polars) pipe"
   ]
  },
  {
   "cell_type": "raw",
   "id": "f36e2a92-eb0a-4b98-8927-7a4c42ab3216",
   "metadata": {},
   "source": [
    "apply only to \"new\" uuids (memoize?) - starting from the last part and going backwards"
   ]
  },
  {
   "cell_type": "raw",
   "id": "dd65676a-20a6-4776-a5ba-2fa2bdb2d0e8",
   "metadata": {},
   "source": [
    "adding tags to certain states? for forecasting, for modeling, for preprocessing, ..."
   ]
  },
  {
   "cell_type": "raw",
   "id": "1dbbf971-382c-4276-9afc-7ded1766bba2",
   "metadata": {},
   "source": [
    "applying function/transformer in parallel to multiple columns (e.g. boolean)"
   ]
  },
  {
   "cell_type": "raw",
   "id": "cc3eb177-626d-4efe-b1cf-fa5e4888488e",
   "metadata": {},
   "source": [
    "ChatGPT\n",
    "converting pandas code\n",
    "adding documentation\n",
    "adding unit-tests\n",
    "handling context (training, inference, streaming)"
   ]
  },
  {
   "cell_type": "raw",
   "id": "d8b428b4-71d7-4166-8d03-d59655d39b61",
   "metadata": {},
   "source": [
    "starting from \"gross\" steps"
   ]
  },
  {
   "cell_type": "raw",
   "id": "ab96ecf8-7090-4f42-b73c-89ca37fac7ed",
   "metadata": {},
   "source": [
    "running a step/pipeline on a different resource"
   ]
  },
  {
   "cell_type": "raw",
   "id": "52de0a81-d572-450d-9ad1-47070bfdc0ad",
   "metadata": {},
   "source": [
    "very specific code for ml stuff"
   ]
  },
  {
   "cell_type": "raw",
   "id": "65af332b-6b68-4be6-9e6b-a7d89d3c2061",
   "metadata": {},
   "source": [
    "easy on-the-spot debugging, testing, viewing, ..."
   ]
  },
  {
   "cell_type": "raw",
   "id": "e91c2fa2-ca1e-490b-a6cc-4d969bc866ed",
   "metadata": {},
   "source": [
    "HPO (?)"
   ]
  },
  {
   "cell_type": "raw",
   "id": "cdd09afe-5cdc-4edd-b83b-b53453a82725",
   "metadata": {},
   "source": [
    "changing the prod inputs doesn't crash the DAG if later we're building functions on top of non-selected features"
   ]
  },
  {
   "cell_type": "raw",
   "id": "cba808c2-2e93-4089-bee5-36b0838fe781",
   "metadata": {},
   "source": [
    "working with indices - cache, materialize etc... + querying it...\n",
    "Also - enabling incremental processing for new data instead of rerunning the whole script"
   ]
  },
  {
   "cell_type": "raw",
   "id": "ad34841b-5d7c-445e-a217-1162e25d7ddf",
   "metadata": {},
   "source": [
    "enabling specific feature discovery within a \"type\" of transformation (calculating aggregation (e.g. \"avg\") on multiple features, converting NAs)"
   ]
  },
  {
   "cell_type": "raw",
   "id": "d40f42ea-ca66-40c8-81ce-f03f8848219b",
   "metadata": {},
   "source": [
    "working with polarify"
   ]
  },
  {
   "cell_type": "code",
   "execution_count": null,
   "id": "9b0ee0ce-f78b-400c-ac95-3a4bb3fa85b6",
   "metadata": {},
   "outputs": [],
   "source": [
    "Feature Store"
   ]
  }
 ],
 "metadata": {
  "kernelspec": {
   "display_name": "Python 3 (ipykernel)",
   "language": "python",
   "name": "python3"
  },
  "language_info": {
   "codemirror_mode": {
    "name": "ipython",
    "version": 3
   },
   "file_extension": ".py",
   "mimetype": "text/x-python",
   "name": "python",
   "nbconvert_exporter": "python",
   "pygments_lexer": "ipython3",
   "version": "3.12.0"
  }
 },
 "nbformat": 4,
 "nbformat_minor": 5
}
