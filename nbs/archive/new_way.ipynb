{
 "cells": [
  {
   "attachments": {},
   "cell_type": "markdown",
   "id": "1fca6af8-829b-4a23-a2d4-f9356464b907",
   "metadata": {},
   "source": [
    "# Hamilton Functions\n",
    "> Defining all the functions!"
   ]
  },
  {
   "cell_type": "code",
   "execution_count": null,
   "id": "1e8b279b-4950-4307-9759-b1c912fe2151",
   "metadata": {},
   "outputs": [],
   "source": [
    "#|default_exp new_way"
   ]
  },
  {
   "cell_type": "code",
   "execution_count": null,
   "id": "85b895ca-921a-4358-a322-e5ac380679e5",
   "metadata": {},
   "outputs": [],
   "source": [
    "from hamilton.function_modifiers import tag"
   ]
  },
  {
   "cell_type": "code",
   "execution_count": null,
   "id": "b3dd854b-d16b-4c8d-af9d-5d410116e007",
   "metadata": {},
   "outputs": [],
   "source": [
    "#|export\n",
    "import pandas as pd"
   ]
  },
  {
   "cell_type": "code",
   "execution_count": null,
   "id": "ee5dce0c-0eac-48cf-b5ab-657bb042f872",
   "metadata": {},
   "outputs": [],
   "source": [
    "#|export\n",
    "def avg_3wk_spend(spend: pd.Series) -> pd.Series: \n",
    "    \"\"\"Rolling 4 day average spend.\"\"\"\n",
    "    return spend.rolling(4).mean()"
   ]
  },
  {
   "cell_type": "code",
   "execution_count": null,
   "id": "4ceba4ec-8c64-44ae-a649-054215ec9f1a",
   "metadata": {},
   "outputs": [],
   "source": [
    "#|export\n",
    "def spend_per_signup(spend: pd.Series, signups: pd.Series) -> pd.Series:\n",
    "    \"\"\"The cost per signup in relation to spend.\"\"\"\n",
    "    return spend / signups"
   ]
  },
  {
   "cell_type": "code",
   "execution_count": null,
   "id": "f4aea055-9ddc-4840-be79-453b963ce8ff",
   "metadata": {},
   "outputs": [],
   "source": [
    "#|export\n",
    "@tag(cache=\"pkl\")\n",
    "def spend_mean(spend: pd.Series) -> float:\n",
    "    \"\"\"Shows function creating a scalar. In this case it computes the mean of the entire column.\"\"\"\n",
    "    return spend.mean()"
   ]
  },
  {
   "cell_type": "code",
   "execution_count": null,
   "id": "7a523cbe-8a5d-455b-b49c-e221d8f748d0",
   "metadata": {},
   "outputs": [],
   "source": [
    "#|export\n",
    "def spend_zero_mean(spend: pd.Series, spend_mean: float) -> pd.Series:\n",
    "    \"\"\"Shows function that takes a scalar. In this case to zero mean spend.\"\"\"\n",
    "    return spend - spend_mean"
   ]
  },
  {
   "cell_type": "code",
   "execution_count": null,
   "id": "47c26889-e06d-4887-b70d-1ecb68697bb2",
   "metadata": {},
   "outputs": [],
   "source": [
    "#|export\n",
    "def spend_std_dev(spend: pd.Series) -> float:\n",
    "    \"\"\"Function that computes the standard deviation of the spend column.\"\"\"\n",
    "    return spend.std()"
   ]
  },
  {
   "cell_type": "code",
   "execution_count": null,
   "id": "41e36036-3cbd-4a6e-afa3-e9ba726cc1fb",
   "metadata": {},
   "outputs": [],
   "source": [
    "#|export\n",
    "def spend_zero_mean_unit_variance(spend_zero_mean: pd.Series, spend_std_dev: float) -> pd.Series:\n",
    "    \"\"\"Function showing one way to make spend have zero mean and unit variance.\"\"\"\n",
    "    return spend_zero_mean / spend_std_dev"
   ]
  },
  {
   "cell_type": "code",
   "execution_count": null,
   "id": "cb1f66f6-225b-49ef-ad17-16cba85a5fdc",
   "metadata": {},
   "outputs": [],
   "source": []
  }
 ],
 "metadata": {
  "kernelspec": {
   "display_name": "Python 3 (ipykernel)",
   "language": "python",
   "name": "python3"
  }
 },
 "nbformat": 4,
 "nbformat_minor": 5
}
